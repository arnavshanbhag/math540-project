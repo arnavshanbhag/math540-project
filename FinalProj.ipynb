{
 "cells": [
  {
   "cell_type": "code",
   "execution_count": 9,
   "id": "4ef0b202",
   "metadata": {},
   "outputs": [],
   "source": [
    "import numpy as np\n",
    "from scipy.optimize import linear_sum_assignment\n",
    "max_int = 50\n",
    "n = 10 #Start with 2x2\n",
    "matrix = np.random.randint(max_int, size=(n,n))\n",
    "#print(matrix) #checking matrix outputs correctly"
   ]
  },
  {
   "cell_type": "markdown",
   "id": "785e46b7",
   "metadata": {},
   "source": [
    "description of project (linear assigment) and goals\n",
    "In this problem, we create a random nxm matrix. Our goal is to compute a new matrix assigment such that \n",
    "At most one column is assigned to each row and at most one row is assigned to each column.\n",
    "\n",
    "The total number of assignments is min(n,m), in other words the assignment minimizes the sum of costs."
   ]
  },
  {
   "cell_type": "markdown",
   "id": "b9454b97",
   "metadata": {},
   "source": [
    "Description of setup"
   ]
  },
  {
   "cell_type": "markdown",
   "id": "be7a09df",
   "metadata": {},
   "source": [
    "Implementation of theoretical"
   ]
  },
  {
   "cell_type": "code",
   "execution_count": 10,
   "id": "95b34a07",
   "metadata": {},
   "outputs": [
    {
     "name": "stdout",
     "output_type": "stream",
     "text": [
      "Optimal assignments:\n",
      "Worker 0 assigned to Job 6\n",
      "Worker 1 assigned to Job 9\n",
      "Worker 2 assigned to Job 1\n",
      "Worker 3 assigned to Job 3\n",
      "Worker 4 assigned to Job 7\n",
      "Worker 5 assigned to Job 2\n",
      "Worker 6 assigned to Job 0\n",
      "Worker 7 assigned to Job 5\n",
      "Worker 8 assigned to Job 8\n",
      "Worker 9 assigned to Job 4\n",
      "Total minimum cost: 70\n"
     ]
    }
   ],
   "source": [
    "# Solve the linear sum assignment problem\n",
    "row_ind, col_ind = linear_sum_assignment(matrix)\n",
    "\n",
    "# Print the optimal assignments\n",
    "print(\"Optimal assignments:\")\n",
    "for i in range(len(row_ind)):\n",
    "    print(f\"Worker {row_ind[i]} assigned to Job {col_ind[i]}\")\n",
    "\n",
    "# Calculate and print the total cost\n",
    "total_cost = matrix[row_ind, col_ind].sum()\n",
    "print(f\"Total minimum cost: {total_cost}\")"
   ]
  },
  {
   "cell_type": "markdown",
   "id": "7db3d198",
   "metadata": {},
   "source": [
    "Example using Hungarian method"
   ]
  },
  {
   "cell_type": "code",
   "execution_count": null,
   "id": "bdd606b7",
   "metadata": {},
   "outputs": [],
   "source": [
    "def hungarian_algorithm(mat): "
   ]
  },
  {
   "cell_type": "markdown",
   "id": "c703350c",
   "metadata": {},
   "source": [
    "Example using other method?"
   ]
  }
 ],
 "metadata": {
  "kernelspec": {
   "display_name": "base",
   "language": "python",
   "name": "python3"
  },
  "language_info": {
   "codemirror_mode": {
    "name": "ipython",
    "version": 3
   },
   "file_extension": ".py",
   "mimetype": "text/x-python",
   "name": "python",
   "nbconvert_exporter": "python",
   "pygments_lexer": "ipython3",
   "version": "3.12.7"
  }
 },
 "nbformat": 4,
 "nbformat_minor": 5
}
